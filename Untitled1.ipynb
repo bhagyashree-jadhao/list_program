{
 "cells": [
  {
   "cell_type": "markdown",
   "id": "f834f722",
   "metadata": {},
   "source": [
    "# Find out second largest element in list"
   ]
  },
  {
   "cell_type": "code",
   "execution_count": 18,
   "id": "ac9850bc",
   "metadata": {},
   "outputs": [
    {
     "name": "stdout",
     "output_type": "stream",
     "text": [
      "[10, 15, 20, 25, 30, 40]\n",
      "Second largest element in list is:  30\n"
     ]
    }
   ],
   "source": [
    "k=[10,20,40,15,25,30]\n",
    "def second_lar(l):\n",
    "\n",
    "    for i in range(0,len(l)):\n",
    "        for j in range(i,len(l)):\n",
    "            if l[i] > l[j]:\n",
    "                temp=l[i]\n",
    "                l[i]=l[j]\n",
    "                l[j]=temp\n",
    "            \n",
    "    print(l)\n",
    "    print(\"Second largest element in list is: \" ,l[-2])\n",
    "second_lar(k)"
   ]
  },
  {
   "cell_type": "markdown",
   "id": "d75e3e33",
   "metadata": {},
   "source": [
    "# decorater"
   ]
  },
  {
   "cell_type": "code",
   "execution_count": 1,
   "id": "fd6aa921",
   "metadata": {},
   "outputs": [
    {
     "name": "stdout",
     "output_type": "stream",
     "text": [
      "Enter the first number5\n",
      "Enter the second number6\n"
     ]
    },
    {
     "data": {
      "text/plain": [
       "11"
      ]
     },
     "execution_count": 1,
     "metadata": {},
     "output_type": "execute_result"
    }
   ],
   "source": [
    "def add():\n",
    "    n1=int(input(\"Enter the first number\"))\n",
    "    n2=int(input(\"Enter the second number\"))\n",
    "    return n1+n2\n",
    "add()"
   ]
  },
  {
   "cell_type": "code",
   "execution_count": 16,
   "id": "b63ef9e4",
   "metadata": {},
   "outputs": [
    {
     "name": "stdout",
     "output_type": "stream",
     "text": [
      "Enter the first number6\n",
      "Enter the second number7\n",
      "Enter the third number5\n"
     ]
    },
    {
     "data": {
      "text/plain": [
       "18"
      ]
     },
     "execution_count": 16,
     "metadata": {},
     "output_type": "execute_result"
    }
   ],
   "source": [
    "def decor(func):\n",
    "    def inner():\n",
    "        c=func()\n",
    "        n2=int(input(\"Enter the third number\"))\n",
    "        return n2+c\n",
    "    return inner()\n",
    "x=decor(add)\n",
    "x"
   ]
  },
  {
   "cell_type": "markdown",
   "id": "4b898a21",
   "metadata": {},
   "source": [
    "# fiter out vowels in string"
   ]
  },
  {
   "cell_type": "code",
   "execution_count": 23,
   "id": "eb8ade28",
   "metadata": {},
   "outputs": [
    {
     "data": {
      "text/plain": [
       "['e', 'o', 'e', 'o', 'o']"
      ]
     },
     "execution_count": 23,
     "metadata": {},
     "output_type": "execute_result"
    }
   ],
   "source": [
    "s=\"Welcome to python\"\n",
    "vowels='AEIOUaeiou'\n",
    "v=list(filter(lambda x :  x in vowels,s))\n",
    "v"
   ]
  },
  {
   "cell_type": "code",
   "execution_count": 5,
   "id": "76d8d35a",
   "metadata": {
    "scrolled": true
   },
   "outputs": [
    {
     "name": "stdout",
     "output_type": "stream",
     "text": [
      "enter the stringjhgjhgjkhiyi9\n",
      "i\n",
      "i\n"
     ]
    }
   ],
   "source": [
    "\n",
    "def vowel():\n",
    "    s=input(\"enter the string\")\n",
    "    w=\"AEIOUaeiou\"\n",
    "    for i in s:\n",
    "        if i in w:\n",
    "            print(i) \n",
    "vowel()"
   ]
  },
  {
   "cell_type": "code",
   "execution_count": null,
   "id": "42148c17",
   "metadata": {},
   "outputs": [],
   "source": [
    "#  reapeted  string check  \n",
    "#abab=true\n",
    "#aabbaabb=true\n",
    "#abcabde=false\n",
    "#like that\n"
   ]
  },
  {
   "cell_type": "code",
   "execution_count": 38,
   "id": "f5d8f92c",
   "metadata": {},
   "outputs": [
    {
     "name": "stdout",
     "output_type": "stream",
     "text": [
      "Enter the stringwelcome to python\n",
      "welcome to pythonwelcome to python\n",
      "elcome to pythonwelcome to pytho\n",
      "FAlse\n"
     ]
    }
   ],
   "source": [
    "import re \n",
    "s1=input(\"Enter the string\")\n",
    "s2=s1*2\n",
    "print(s2)\n",
    "\n",
    "#s3=len(s2)\n",
    "s3=s2[1:len(s2)-1]\n",
    "print(s3)\n",
    "#if (s3.find(s1)):\n",
    "#    print(\"true\")\n",
    "if re.search(s1,s3):\n",
    "    print(\"True\")\n",
    "else:\n",
    "    print(\"FAlse\")"
   ]
  },
  {
   "cell_type": "code",
   "execution_count": 37,
   "id": "dd055f13",
   "metadata": {},
   "outputs": [
    {
     "data": {
      "text/plain": [
       "-1"
      ]
     },
     "execution_count": 37,
     "metadata": {},
     "output_type": "execute_result"
    }
   ],
   "source": [
    "s2.find(s)"
   ]
  },
  {
   "cell_type": "code",
   "execution_count": null,
   "id": "c7b3d90e",
   "metadata": {},
   "outputs": [],
   "source": []
  }
 ],
 "metadata": {
  "kernelspec": {
   "display_name": "Python 3 (ipykernel)",
   "language": "python",
   "name": "python3"
  },
  "language_info": {
   "codemirror_mode": {
    "name": "ipython",
    "version": 3
   },
   "file_extension": ".py",
   "mimetype": "text/x-python",
   "name": "python",
   "nbconvert_exporter": "python",
   "pygments_lexer": "ipython3",
   "version": "3.9.7"
  }
 },
 "nbformat": 4,
 "nbformat_minor": 5
}
