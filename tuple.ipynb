{
 "cells": [
  {
   "cell_type": "code",
   "execution_count": 1,
   "id": "1604e67f",
   "metadata": {},
   "outputs": [
    {
     "name": "stdout",
     "output_type": "stream",
     "text": [
      "<class 'tuple'>\n"
     ]
    }
   ],
   "source": [
    "t=20,30\n",
    "print(type(t))"
   ]
  },
  {
   "cell_type": "code",
   "execution_count": 2,
   "id": "8e955790",
   "metadata": {},
   "outputs": [
    {
     "name": "stdout",
     "output_type": "stream",
     "text": [
      "<class 'int'>\n"
     ]
    }
   ],
   "source": [
    "t=(40)\n",
    "print(type(t))"
   ]
  },
  {
   "cell_type": "code",
   "execution_count": 3,
   "id": "0ff93d3b",
   "metadata": {},
   "outputs": [
    {
     "name": "stdout",
     "output_type": "stream",
     "text": [
      "<class 'tuple'>\n"
     ]
    }
   ],
   "source": [
    "t=(40,)\n",
    "print(type(t))"
   ]
  },
  {
   "cell_type": "code",
   "execution_count": 7,
   "id": "8740de8a",
   "metadata": {},
   "outputs": [
    {
     "name": "stdout",
     "output_type": "stream",
     "text": [
      "(60, 50, 40, 30, 20)\n",
      "(60, 50, 40, 30, 20)\n",
      "[60, 50, 40, 30, 20, 20]\n"
     ]
    }
   ],
   "source": [
    "#reverse the tuple\n",
    "t=(20,30,40,50,60)\n",
    "# using slice method\n",
    "print(t[::-1])\n",
    "l=[]\n",
    "#using while loop\n",
    "i=len(t)-1\n",
    "while i>=0:\n",
    "    l.append(t[i])\n",
    "    i-=1\n",
    "print(tuple(l))\n",
    "#using for loop\n",
    "for j in range (i,0):\n",
    "    l.append(l[i])\n",
    "print(l)\n"
   ]
  },
  {
   "cell_type": "code",
   "execution_count": 8,
   "id": "18aff304",
   "metadata": {},
   "outputs": [
    {
     "name": "stdout",
     "output_type": "stream",
     "text": [
      "(60, 50, 40, 30, 20)\n"
     ]
    }
   ],
   "source": [
    "#reverse the tuple\n",
    "l=[]\n",
    "#using while loop\n",
    "i=len(t)-1\n",
    "while i>=0:\n",
    "    l.append(t[i])\n",
    "    i-=1\n",
    "print(tuple(l))"
   ]
  },
  {
   "cell_type": "code",
   "execution_count": 1,
   "id": "f3e72568",
   "metadata": {},
   "outputs": [
    {
     "name": "stdout",
     "output_type": "stream",
     "text": [
      "(60, 50, 40, 30, 20, 10)\n"
     ]
    }
   ],
   "source": [
    "#using for loop\n",
    "t1=(10,20,30,40,50,60)\n",
    "l2=[]\n",
    "i=len(t1)-1\n",
    "for j in range(i,-1,-1):\n",
    "    l2.append(t1[j])\n",
    "print(tuple(l2))\n"
   ]
  },
  {
   "cell_type": "code",
   "execution_count": 17,
   "id": "4f4c70d8",
   "metadata": {},
   "outputs": [
    {
     "data": {
      "text/plain": [
       "[20, 50, 60, 100, 360, 400]"
      ]
     },
     "execution_count": 17,
     "metadata": {},
     "output_type": "execute_result"
    }
   ],
   "source": [
    "t1={100,20,360,400,50,60}\n",
    "sorted(t1)"
   ]
  },
  {
   "cell_type": "code",
   "execution_count": 18,
   "id": "87ef638d",
   "metadata": {},
   "outputs": [
    {
     "data": {
      "text/plain": [
       "set"
      ]
     },
     "execution_count": 18,
     "metadata": {},
     "output_type": "execute_result"
    }
   ],
   "source": [
    "type(t1)"
   ]
  },
  {
   "cell_type": "code",
   "execution_count": 11,
   "id": "30b7d496",
   "metadata": {},
   "outputs": [],
   "source": [
    "t1=[100,20,360,400,50,60]\n",
    "t1.sort()"
   ]
  },
  {
   "cell_type": "code",
   "execution_count": 12,
   "id": "0a65965a",
   "metadata": {},
   "outputs": [
    {
     "data": {
      "text/plain": [
       "[20, 50, 60, 100, 360, 400]"
      ]
     },
     "execution_count": 12,
     "metadata": {},
     "output_type": "execute_result"
    }
   ],
   "source": [
    "t1"
   ]
  },
  {
   "cell_type": "code",
   "execution_count": null,
   "id": "996984ff",
   "metadata": {},
   "outputs": [],
   "source": []
  }
 ],
 "metadata": {
  "kernelspec": {
   "display_name": "Python 3 (ipykernel)",
   "language": "python",
   "name": "python3"
  },
  "language_info": {
   "codemirror_mode": {
    "name": "ipython",
    "version": 3
   },
   "file_extension": ".py",
   "mimetype": "text/x-python",
   "name": "python",
   "nbconvert_exporter": "python",
   "pygments_lexer": "ipython3",
   "version": "3.9.7"
  }
 },
 "nbformat": 4,
 "nbformat_minor": 5
}
